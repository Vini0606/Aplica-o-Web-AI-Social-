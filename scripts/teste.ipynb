{
 "cells": [
  {
   "cell_type": "code",
   "execution_count": null,
   "id": "9489e4a5",
   "metadata": {},
   "outputs": [],
   "source": [
    "import os\n",
    "from datetime import datetime\n",
    "from dotenv import load_dotenv\n",
    "#from src.data_ingestion import apify_handler\n",
    "from src.analysis import engine\n",
    "from src.reporting import generator"
   ]
  },
  {
   "cell_type": "code",
   "execution_count": null,
   "id": "48290f3b",
   "metadata": {},
   "outputs": [],
   "source": []
  }
 ],
 "metadata": {
  "kernelspec": {
   "display_name": "modulo_gestao_conteudo_av",
   "language": "python",
   "name": "python3"
  },
  "language_info": {
   "name": "python",
   "version": "3.13.5"
  }
 },
 "nbformat": 4,
 "nbformat_minor": 5
}
